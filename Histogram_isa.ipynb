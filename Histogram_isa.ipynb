{
 "cells": [
  {
   "cell_type": "code",
   "execution_count": 1,
   "metadata": {},
   "outputs": [],
   "source": [
    "import matplotlib.pyplot as plt\n",
    "import matplotlib.ticker as mticker\n",
    "from cartopy.mpl.gridliner import LONGITUDE_FORMATTER, LATITUDE_FORMATTER\n",
    "import cartopy.feature as cfeature\n",
    "import cartopy.crs as ccrs\n",
    "import pandas \n",
    "import numpy as np\n",
    "import xarray as xr\n",
    "import xesmf \n"
   ]
  },
  {
   "cell_type": "code",
   "execution_count": 2,
   "metadata": {},
   "outputs": [
    {
     "data": {
      "text/html": [
       "<pre>&lt;xarray.Dataset&gt;\n",
       "Dimensions:           (TIME: 12, XT_OCEAN: 360, YT_OCEAN: 200, bnds: 2)\n",
       "Coordinates:\n",
       "  * XT_OCEAN          (XT_OCEAN) float64 -279.5 -278.5 -277.5 ... 77.5 78.5 79.5\n",
       "  * YT_OCEAN          (YT_OCEAN) float64 -81.5 -80.5 -79.5 ... 87.5 88.5 89.5\n",
       "  * TIME              (TIME) object 2007-01-16 12:00:00 ... 2007-12-16 12:00:00\n",
       "Dimensions without coordinates: bnds\n",
       "Data variables:\n",
       "    YT_OCEAN_bnds     (YT_OCEAN, bnds) float64 ...\n",
       "    TIME_bnds         (TIME, bnds) object ...\n",
       "    SMALLZOO_BIOMASS  (TIME, YT_OCEAN, XT_OCEAN) float64 ...\n",
       "    MEDZOO_BIOMASS    (TIME, YT_OCEAN, XT_OCEAN) float64 ...\n",
       "    LARGEZOO_BIOMASS  (TIME, YT_OCEAN, XT_OCEAN) float64 ...\n",
       "    SMALLZOO_PROD     (TIME, YT_OCEAN, XT_OCEAN) float64 ...\n",
       "    MEDZOO_PROD       (TIME, YT_OCEAN, XT_OCEAN) float64 ...\n",
       "    LARGEZOO_PROD     (TIME, YT_OCEAN, XT_OCEAN) float64 ...\n",
       "    GEOLAT_T          (YT_OCEAN, XT_OCEAN) float32 ...\n",
       "    GEOLON_T          (YT_OCEAN, XT_OCEAN) float32 ...\n",
       "Attributes:\n",
       "    history:      FERRET V6.85 (beta) 20-Oct-14\n",
       "    Conventions:  CF-1.0</pre>"
      ],
      "text/plain": [
       "<xarray.Dataset>\n",
       "Dimensions:           (TIME: 12, XT_OCEAN: 360, YT_OCEAN: 200, bnds: 2)\n",
       "Coordinates:\n",
       "  * XT_OCEAN          (XT_OCEAN) float64 -279.5 -278.5 -277.5 ... 77.5 78.5 79.5\n",
       "  * YT_OCEAN          (YT_OCEAN) float64 -81.5 -80.5 -79.5 ... 87.5 88.5 89.5\n",
       "  * TIME              (TIME) object 2007-01-16 12:00:00 ... 2007-12-16 12:00:00\n",
       "Dimensions without coordinates: bnds\n",
       "Data variables:\n",
       "    YT_OCEAN_bnds     (YT_OCEAN, bnds) float64 ...\n",
       "    TIME_bnds         (TIME, bnds) object ...\n",
       "    SMALLZOO_BIOMASS  (TIME, YT_OCEAN, XT_OCEAN) float64 ...\n",
       "    MEDZOO_BIOMASS    (TIME, YT_OCEAN, XT_OCEAN) float64 ...\n",
       "    LARGEZOO_BIOMASS  (TIME, YT_OCEAN, XT_OCEAN) float64 ...\n",
       "    SMALLZOO_PROD     (TIME, YT_OCEAN, XT_OCEAN) float64 ...\n",
       "    MEDZOO_PROD       (TIME, YT_OCEAN, XT_OCEAN) float64 ...\n",
       "    LARGEZOO_PROD     (TIME, YT_OCEAN, XT_OCEAN) float64 ...\n",
       "    GEOLAT_T          (YT_OCEAN, XT_OCEAN) float32 ...\n",
       "    GEOLON_T          (YT_OCEAN, XT_OCEAN) float32 ...\n",
       "Attributes:\n",
       "    history:      FERRET V6.85 (beta) 20-Oct-14\n",
       "    Conventions:  CF-1.0"
      ]
     },
     "execution_count": 2,
     "metadata": {},
     "output_type": "execute_result"
    }
   ],
   "source": [
    "ds = xr.open_dataset('/Users/isarios/Hollings_Docs/Hollings/Code/initial_data/zooplankton_data_luo.nc')\n",
    "ds"
   ]
  },
  {
   "cell_type": "code",
   "execution_count": 3,
   "metadata": {},
   "outputs": [],
   "source": [
    "csv_fil = '/Users/isarios/Hollings_Docs/Hollings/Hollings_2020/ReefLocations.csv'\n",
    "df = pandas.read_csv(csv_fil,encoding= 'unicode_escape')"
   ]
  },
  {
   "cell_type": "code",
   "execution_count": 4,
   "metadata": {},
   "outputs": [
    {
     "data": {
      "text/html": [
       "<div>\n",
       "<style scoped>\n",
       "    .dataframe tbody tr th:only-of-type {\n",
       "        vertical-align: middle;\n",
       "    }\n",
       "\n",
       "    .dataframe tbody tr th {\n",
       "        vertical-align: top;\n",
       "    }\n",
       "\n",
       "    .dataframe thead th {\n",
       "        text-align: right;\n",
       "    }\n",
       "</style>\n",
       "<table border=\"1\" class=\"dataframe\">\n",
       "  <thead>\n",
       "    <tr style=\"text-align: right;\">\n",
       "      <th></th>\n",
       "      <th>ID</th>\n",
       "      <th>REGION</th>\n",
       "      <th>SUBREGION</th>\n",
       "      <th>COUNTRY</th>\n",
       "      <th>LOCATION</th>\n",
       "      <th>LAT</th>\n",
       "      <th>LON</th>\n",
       "      <th>REEF_SYSTEM</th>\n",
       "      <th>REEF_TYPE</th>\n",
       "      <th>REEF_NAME</th>\n",
       "      <th>WATER_DEPTH</th>\n",
       "      <th>ISLAND_NAME</th>\n",
       "      <th>PROTECTED</th>\n",
       "      <th>TOURISM</th>\n",
       "      <th>COUNTRY_CODE</th>\n",
       "    </tr>\n",
       "  </thead>\n",
       "  <tbody>\n",
       "    <tr>\n",
       "      <th>0</th>\n",
       "      <td>33</td>\n",
       "      <td>NaN</td>\n",
       "      <td>NaN</td>\n",
       "      <td>NaN</td>\n",
       "      <td>NaN</td>\n",
       "      <td>0.21667</td>\n",
       "      <td>-176.48333</td>\n",
       "      <td>Baker Island</td>\n",
       "      <td>Fringing</td>\n",
       "      <td>Baker Island</td>\n",
       "      <td>NaN</td>\n",
       "      <td>NaN</td>\n",
       "      <td>1</td>\n",
       "      <td>0</td>\n",
       "      <td>NaN</td>\n",
       "    </tr>\n",
       "    <tr>\n",
       "      <th>1</th>\n",
       "      <td>7976</td>\n",
       "      <td>NaN</td>\n",
       "      <td>NaN</td>\n",
       "      <td>NaN</td>\n",
       "      <td>NaN</td>\n",
       "      <td>0.03333</td>\n",
       "      <td>6.66667</td>\n",
       "      <td>Spo TomT and Prfncipe</td>\n",
       "      <td>Non-reef coral community</td>\n",
       "      <td>Spo TomT and Prfncipe</td>\n",
       "      <td>NaN</td>\n",
       "      <td>NaN</td>\n",
       "      <td>0</td>\n",
       "      <td>0</td>\n",
       "      <td>NaN</td>\n",
       "    </tr>\n",
       "    <tr>\n",
       "      <th>2</th>\n",
       "      <td>3575</td>\n",
       "      <td>NaN</td>\n",
       "      <td>NaN</td>\n",
       "      <td>NaN</td>\n",
       "      <td>NaN</td>\n",
       "      <td>27.95000</td>\n",
       "      <td>-82.95000</td>\n",
       "      <td>Clearwater</td>\n",
       "      <td>NaN</td>\n",
       "      <td>Clearwater</td>\n",
       "      <td>NaN</td>\n",
       "      <td>NaN</td>\n",
       "      <td>0</td>\n",
       "      <td>1</td>\n",
       "      <td>NaN</td>\n",
       "    </tr>\n",
       "    <tr>\n",
       "      <th>3</th>\n",
       "      <td>10302</td>\n",
       "      <td>NaN</td>\n",
       "      <td>NaN</td>\n",
       "      <td>NaN</td>\n",
       "      <td>NaN</td>\n",
       "      <td>28.88333</td>\n",
       "      <td>34.73333</td>\n",
       "      <td>Gulf of Aqaba</td>\n",
       "      <td>NaN</td>\n",
       "      <td>Gulf of Aqaba</td>\n",
       "      <td>NaN</td>\n",
       "      <td>NaN</td>\n",
       "      <td>0</td>\n",
       "      <td>0</td>\n",
       "      <td>NaN</td>\n",
       "    </tr>\n",
       "    <tr>\n",
       "      <th>4</th>\n",
       "      <td>3948</td>\n",
       "      <td>NaN</td>\n",
       "      <td>NaN</td>\n",
       "      <td>NaN</td>\n",
       "      <td>NaN</td>\n",
       "      <td>26.88333</td>\n",
       "      <td>-82.56667</td>\n",
       "      <td>Crystal River</td>\n",
       "      <td>NaN</td>\n",
       "      <td>Crystal River</td>\n",
       "      <td>NaN</td>\n",
       "      <td>NaN</td>\n",
       "      <td>0</td>\n",
       "      <td>1</td>\n",
       "      <td>NaN</td>\n",
       "    </tr>\n",
       "    <tr>\n",
       "      <th>...</th>\n",
       "      <td>...</td>\n",
       "      <td>...</td>\n",
       "      <td>...</td>\n",
       "      <td>...</td>\n",
       "      <td>...</td>\n",
       "      <td>...</td>\n",
       "      <td>...</td>\n",
       "      <td>...</td>\n",
       "      <td>...</td>\n",
       "      <td>...</td>\n",
       "      <td>...</td>\n",
       "      <td>...</td>\n",
       "      <td>...</td>\n",
       "      <td>...</td>\n",
       "      <td>...</td>\n",
       "    </tr>\n",
       "    <tr>\n",
       "      <th>10043</th>\n",
       "      <td>8289</td>\n",
       "      <td>Pacific</td>\n",
       "      <td>Southwest Pacific</td>\n",
       "      <td>Vanuatu</td>\n",
       "      <td>Torres Islands</td>\n",
       "      <td>-13.40000</td>\n",
       "      <td>166.60000</td>\n",
       "      <td>Loh</td>\n",
       "      <td>Fringing</td>\n",
       "      <td>Loh</td>\n",
       "      <td>NaN</td>\n",
       "      <td>NaN</td>\n",
       "      <td>0</td>\n",
       "      <td>0</td>\n",
       "      <td>VUT</td>\n",
       "    </tr>\n",
       "    <tr>\n",
       "      <th>10044</th>\n",
       "      <td>8290</td>\n",
       "      <td>Pacific</td>\n",
       "      <td>Southwest Pacific</td>\n",
       "      <td>Vanuatu</td>\n",
       "      <td>Torres Islands</td>\n",
       "      <td>-13.33333</td>\n",
       "      <td>166.65000</td>\n",
       "      <td>Linua</td>\n",
       "      <td>Fringing</td>\n",
       "      <td>Linua</td>\n",
       "      <td>NaN</td>\n",
       "      <td>NaN</td>\n",
       "      <td>0</td>\n",
       "      <td>0</td>\n",
       "      <td>VUT</td>\n",
       "    </tr>\n",
       "    <tr>\n",
       "      <th>10045</th>\n",
       "      <td>8291</td>\n",
       "      <td>Pacific</td>\n",
       "      <td>Southwest Pacific</td>\n",
       "      <td>Vanuatu</td>\n",
       "      <td>Torres Islands</td>\n",
       "      <td>-13.31667</td>\n",
       "      <td>166.56667</td>\n",
       "      <td>Tegua</td>\n",
       "      <td>Fringing</td>\n",
       "      <td>Tegua</td>\n",
       "      <td>NaN</td>\n",
       "      <td>NaN</td>\n",
       "      <td>0</td>\n",
       "      <td>0</td>\n",
       "      <td>VUT</td>\n",
       "    </tr>\n",
       "    <tr>\n",
       "      <th>10046</th>\n",
       "      <td>8292</td>\n",
       "      <td>Pacific</td>\n",
       "      <td>Southwest Pacific</td>\n",
       "      <td>Vanuatu</td>\n",
       "      <td>Torres Islands</td>\n",
       "      <td>-13.25000</td>\n",
       "      <td>166.63333</td>\n",
       "      <td>Metoma</td>\n",
       "      <td>Fringing</td>\n",
       "      <td>Metoma</td>\n",
       "      <td>NaN</td>\n",
       "      <td>NaN</td>\n",
       "      <td>0</td>\n",
       "      <td>0</td>\n",
       "      <td>VUT</td>\n",
       "    </tr>\n",
       "    <tr>\n",
       "      <th>10047</th>\n",
       "      <td>8293</td>\n",
       "      <td>Pacific</td>\n",
       "      <td>Southwest Pacific</td>\n",
       "      <td>Vanuatu</td>\n",
       "      <td>Torres Islands</td>\n",
       "      <td>-13.15000</td>\n",
       "      <td>166.56667</td>\n",
       "      <td>Hiu</td>\n",
       "      <td>Fringing</td>\n",
       "      <td>Hiu</td>\n",
       "      <td>NaN</td>\n",
       "      <td>NaN</td>\n",
       "      <td>0</td>\n",
       "      <td>0</td>\n",
       "      <td>VUT</td>\n",
       "    </tr>\n",
       "  </tbody>\n",
       "</table>\n",
       "<p>10048 rows × 15 columns</p>\n",
       "</div>"
      ],
      "text/plain": [
       "          ID   REGION          SUBREGION  COUNTRY        LOCATION       LAT  \\\n",
       "0         33      NaN                NaN      NaN             NaN   0.21667   \n",
       "1       7976      NaN                NaN      NaN             NaN   0.03333   \n",
       "2       3575      NaN                NaN      NaN             NaN  27.95000   \n",
       "3      10302      NaN                NaN      NaN             NaN  28.88333   \n",
       "4       3948      NaN                NaN      NaN             NaN  26.88333   \n",
       "...      ...      ...                ...      ...             ...       ...   \n",
       "10043   8289  Pacific  Southwest Pacific  Vanuatu  Torres Islands -13.40000   \n",
       "10044   8290  Pacific  Southwest Pacific  Vanuatu  Torres Islands -13.33333   \n",
       "10045   8291  Pacific  Southwest Pacific  Vanuatu  Torres Islands -13.31667   \n",
       "10046   8292  Pacific  Southwest Pacific  Vanuatu  Torres Islands -13.25000   \n",
       "10047   8293  Pacific  Southwest Pacific  Vanuatu  Torres Islands -13.15000   \n",
       "\n",
       "             LON            REEF_SYSTEM                 REEF_TYPE  \\\n",
       "0     -176.48333           Baker Island                  Fringing   \n",
       "1        6.66667  Spo TomT and Prfncipe  Non-reef coral community   \n",
       "2      -82.95000             Clearwater                       NaN   \n",
       "3       34.73333          Gulf of Aqaba                       NaN   \n",
       "4      -82.56667          Crystal River                       NaN   \n",
       "...          ...                    ...                       ...   \n",
       "10043  166.60000                    Loh                  Fringing   \n",
       "10044  166.65000                  Linua                  Fringing   \n",
       "10045  166.56667                  Tegua                  Fringing   \n",
       "10046  166.63333                 Metoma                  Fringing   \n",
       "10047  166.56667                    Hiu                  Fringing   \n",
       "\n",
       "                   REEF_NAME  WATER_DEPTH ISLAND_NAME  PROTECTED  TOURISM  \\\n",
       "0               Baker Island          NaN         NaN          1        0   \n",
       "1      Spo TomT and Prfncipe          NaN         NaN          0        0   \n",
       "2                 Clearwater          NaN         NaN          0        1   \n",
       "3              Gulf of Aqaba          NaN         NaN          0        0   \n",
       "4              Crystal River          NaN         NaN          0        1   \n",
       "...                      ...          ...         ...        ...      ...   \n",
       "10043                    Loh          NaN         NaN          0        0   \n",
       "10044                  Linua          NaN         NaN          0        0   \n",
       "10045                  Tegua          NaN         NaN          0        0   \n",
       "10046                 Metoma          NaN         NaN          0        0   \n",
       "10047                    Hiu          NaN         NaN          0        0   \n",
       "\n",
       "      COUNTRY_CODE  \n",
       "0              NaN  \n",
       "1              NaN  \n",
       "2              NaN  \n",
       "3              NaN  \n",
       "4              NaN  \n",
       "...            ...  \n",
       "10043          VUT  \n",
       "10044          VUT  \n",
       "10045          VUT  \n",
       "10046          VUT  \n",
       "10047          VUT  \n",
       "\n",
       "[10048 rows x 15 columns]"
      ]
     },
     "execution_count": 4,
     "metadata": {},
     "output_type": "execute_result"
    }
   ],
   "source": [
    "df"
   ]
  },
  {
   "cell_type": "code",
   "execution_count": 5,
   "metadata": {},
   "outputs": [],
   "source": [
    "rf_locs = xr.Dataset()\n",
    "rf_locs['lon'] = xr.DataArray(data=df['LON'], dims=('reef_sites'))\n",
    "rf_locs['lat'] = xr.DataArray(data=df['LAT'], dims=('reef_sites'))"
   ]
  },
  {
   "cell_type": "code",
   "execution_count": 6,
   "metadata": {},
   "outputs": [
    {
     "data": {
      "text/html": [
       "<pre>&lt;xarray.Dataset&gt;\n",
       "Dimensions:     (reef_sites: 10048)\n",
       "Coordinates:\n",
       "  * reef_sites  (reef_sites) int64 0 1 2 3 4 5 ... 10043 10044 10045 10046 10047\n",
       "Data variables:\n",
       "    lon         (reef_sites) float64 -176.5 6.667 -82.95 ... 166.6 166.6 166.6\n",
       "    lat         (reef_sites) float64 0.2167 0.03333 27.95 ... -13.25 -13.15</pre>"
      ],
      "text/plain": [
       "<xarray.Dataset>\n",
       "Dimensions:     (reef_sites: 10048)\n",
       "Coordinates:\n",
       "  * reef_sites  (reef_sites) int64 0 1 2 3 4 5 ... 10043 10044 10045 10046 10047\n",
       "Data variables:\n",
       "    lon         (reef_sites) float64 -176.5 6.667 -82.95 ... 166.6 166.6 166.6\n",
       "    lat         (reef_sites) float64 0.2167 0.03333 27.95 ... -13.25 -13.15"
      ]
     },
     "execution_count": 6,
     "metadata": {},
     "output_type": "execute_result"
    }
   ],
   "source": [
    "rf_locs"
   ]
  },
  {
   "cell_type": "code",
   "execution_count": 7,
   "metadata": {
    "scrolled": true
   },
   "outputs": [
    {
     "data": {
      "text/html": [
       "<pre>&lt;xarray.Dataset&gt;\n",
       "Dimensions:           (TIME: 12, XT_OCEAN: 360, YT_OCEAN: 200, bnds: 2)\n",
       "Coordinates:\n",
       "  * XT_OCEAN          (XT_OCEAN) float64 -279.5 -278.5 -277.5 ... 77.5 78.5 79.5\n",
       "  * YT_OCEAN          (YT_OCEAN) float64 -81.5 -80.5 -79.5 ... 87.5 88.5 89.5\n",
       "  * TIME              (TIME) object 2007-01-16 12:00:00 ... 2007-12-16 12:00:00\n",
       "Dimensions without coordinates: bnds\n",
       "Data variables:\n",
       "    YT_OCEAN_bnds     (YT_OCEAN, bnds) float64 ...\n",
       "    TIME_bnds         (TIME, bnds) object ...\n",
       "    SMALLZOO_BIOMASS  (TIME, YT_OCEAN, XT_OCEAN) float64 ...\n",
       "    MEDZOO_BIOMASS    (TIME, YT_OCEAN, XT_OCEAN) float64 ...\n",
       "    LARGEZOO_BIOMASS  (TIME, YT_OCEAN, XT_OCEAN) float64 ...\n",
       "    SMALLZOO_PROD     (TIME, YT_OCEAN, XT_OCEAN) float64 ...\n",
       "    MEDZOO_PROD       (TIME, YT_OCEAN, XT_OCEAN) float64 ...\n",
       "    LARGEZOO_PROD     (TIME, YT_OCEAN, XT_OCEAN) float64 ...\n",
       "    lat               (YT_OCEAN, XT_OCEAN) float32 ...\n",
       "    lon               (YT_OCEAN, XT_OCEAN) float32 ...\n",
       "Attributes:\n",
       "    history:      FERRET V6.85 (beta) 20-Oct-14\n",
       "    Conventions:  CF-1.0</pre>"
      ],
      "text/plain": [
       "<xarray.Dataset>\n",
       "Dimensions:           (TIME: 12, XT_OCEAN: 360, YT_OCEAN: 200, bnds: 2)\n",
       "Coordinates:\n",
       "  * XT_OCEAN          (XT_OCEAN) float64 -279.5 -278.5 -277.5 ... 77.5 78.5 79.5\n",
       "  * YT_OCEAN          (YT_OCEAN) float64 -81.5 -80.5 -79.5 ... 87.5 88.5 89.5\n",
       "  * TIME              (TIME) object 2007-01-16 12:00:00 ... 2007-12-16 12:00:00\n",
       "Dimensions without coordinates: bnds\n",
       "Data variables:\n",
       "    YT_OCEAN_bnds     (YT_OCEAN, bnds) float64 ...\n",
       "    TIME_bnds         (TIME, bnds) object ...\n",
       "    SMALLZOO_BIOMASS  (TIME, YT_OCEAN, XT_OCEAN) float64 ...\n",
       "    MEDZOO_BIOMASS    (TIME, YT_OCEAN, XT_OCEAN) float64 ...\n",
       "    LARGEZOO_BIOMASS  (TIME, YT_OCEAN, XT_OCEAN) float64 ...\n",
       "    SMALLZOO_PROD     (TIME, YT_OCEAN, XT_OCEAN) float64 ...\n",
       "    MEDZOO_PROD       (TIME, YT_OCEAN, XT_OCEAN) float64 ...\n",
       "    LARGEZOO_PROD     (TIME, YT_OCEAN, XT_OCEAN) float64 ...\n",
       "    lat               (YT_OCEAN, XT_OCEAN) float32 ...\n",
       "    lon               (YT_OCEAN, XT_OCEAN) float32 ...\n",
       "Attributes:\n",
       "    history:      FERRET V6.85 (beta) 20-Oct-14\n",
       "    Conventions:  CF-1.0"
      ]
     },
     "execution_count": 7,
     "metadata": {},
     "output_type": "execute_result"
    }
   ],
   "source": [
    "ds.rename({'GEOLON_T': 'lon', 'GEOLAT_T': 'lat'})"
   ]
  },
  {
   "cell_type": "code",
   "execution_count": 8,
   "metadata": {},
   "outputs": [
    {
     "name": "stdout",
     "output_type": "stream",
     "text": [
      "Overwrite existing file: bilinear_200x360_1x10048.nc \n",
      " You can set reuse_weights=True to save computing time.\n"
     ]
    }
   ],
   "source": [
    "regridder = xesmf.Regridder(ds.rename({'GEOLON_T': 'lon','GEOLAT_T': 'lat'}), rf_locs, 'bilinear', locstream_out=True)"
   ]
  },
  {
   "cell_type": "code",
   "execution_count": 9,
   "metadata": {},
   "outputs": [],
   "source": [
    "zpb_rf_locs = regridder((ds['SMALLZOO_BIOMASS']+ds['MEDZOO_BIOMASS']+ds['LARGEZOO_BIOMASS']))"
   ]
  },
  {
   "cell_type": "code",
   "execution_count": 11,
   "metadata": {},
   "outputs": [],
   "source": [
    "nm = 6"
   ]
  },
  {
   "cell_type": "code",
   "execution_count": 40,
   "metadata": {},
   "outputs": [
    {
     "data": {
      "image/png": "[encoded data removed]",
      "text/plain": [
       "<Figure size 432x288 with 1 Axes>"
      ]
     },
     "metadata": {
      "needs_background": "light"
     },
     "output_type": "display_data"
    }
   ],
   "source": [
    "fid, ax =  plt.subplots() \n",
    "zpb_rf_locs.isel(TIME=nm).plot.hist(ax=ax,edgecolor='black', color='y') \n",
    "ax.set_title('Total Zooplankton Biomass at Tropical Reef Sites')\n",
    "ax.set_ylabel('Number of Reef Sites')\n",
    "ax.set_xlabel('Zooplankton Biomass (units mass Carbon)')\n",
    "ax.text(ax.get_xlim()[1]-.4*(np.diff(ax.get_xlim())), ax.get_ylim()[1]-.1*(np.diff(ax.get_ylim())), zpb_rf_locs['TIME'].isel(TIME=nm).values, fontsize=12)\n",
    "\n",
    "plt.show()"
   ]
  },
  {
   "cell_type": "code",
   "execution_count": 30,
   "metadata": {},
   "outputs": [],
   "source": [
    "##Cut to the Caribbean\n",
    "df2=df.loc[(df['LON']>=-120)&(df['LON']<=-60)&(df['LAT']>=-10)]"
   ]
  },
  {
   "cell_type": "code",
   "execution_count": 31,
   "metadata": {},
   "outputs": [],
   "source": [
    "##set up new xarray with only the croppped information\n",
    "rf_car_locs = xr.Dataset()\n",
    "rf_car_locs['lon'] = xr.DataArray(data=df2['LON'], dims=('reef_sites'))\n",
    "rf_car_locs['lat'] = xr.DataArray(data=df2['LAT'], dims=('reef_sites'))\n"
   ]
  },
  {
   "cell_type": "code",
   "execution_count": 32,
   "metadata": {},
   "outputs": [
    {
     "name": "stdout",
     "output_type": "stream",
     "text": [
      "Create weight file: bilinear_200x360_1x1084.nc\n"
     ]
    }
   ],
   "source": [
    "regridder = xesmf.Regridder(ds.rename({'GEOLON_T': 'lon','GEOLAT_T': 'lat'}), rf_car_locs, 'bilinear', locstream_out=True)"
   ]
  },
  {
   "cell_type": "code",
   "execution_count": 33,
   "metadata": {},
   "outputs": [],
   "source": [
    "zpb_rf_locs = regridder((ds['SMALLZOO_BIOMASS']+ds['MEDZOO_BIOMASS']+ds['LARGEZOO_BIOMASS']))"
   ]
  },
  {
   "cell_type": "code",
   "execution_count": 34,
   "metadata": {},
   "outputs": [],
   "source": [
    "nm = 6"
   ]
  },
  {
   "cell_type": "code",
   "execution_count": 43,
   "metadata": {},
   "outputs": [
    {
     "data": {
      "image/png": "[encoded data removed]",
      "text/plain": [
       "<Figure size 432x288 with 1 Axes>"
      ]
     },
     "metadata": {
      "needs_background": "light"
     },
     "output_type": "display_data"
    }
   ],
   "source": [
    "fid, ax =  plt.subplots()\n",
    "zpb_rf_locs.isel(TIME=nm).plot.hist(ax=ax,edgecolor='black',color='c') \n",
    "ax.set_title('Total Zooplankton Biomass at Caribbean Reef Sites')\n",
    "ax.set_ylabel('Number of Caribbean Reef Sites')\n",
    "ax.set_xlabel('Zooplankton Biomass (units mass Carbon)')\n",
    "ax.text(ax.get_xlim()[1]-.4*(np.diff(ax.get_xlim())), ax.get_ylim()[1]-.1*(np.diff(ax.get_ylim())), zpb_rf_locs['TIME'].isel(TIME=nm).values, fontsize=12)\n",
    "\n",
    "\n",
    "plt.show()"
   ]
  }
 ],
 "metadata": {
  "kernelspec": {
   "display_name": "Python 3",
   "language": "python",
   "name": "python3"
  },
  "language_info": {
   "codemirror_mode": {
    "name": "ipython",
    "version": 3
   },
   "file_extension": ".py",
   "mimetype": "text/x-python",
   "name": "python",
   "nbconvert_exporter": "python",
   "pygments_lexer": "ipython3",
   "version": "3.7.4"
  }
 },
 "nbformat": 4,
 "nbformat_minor": 4
}
